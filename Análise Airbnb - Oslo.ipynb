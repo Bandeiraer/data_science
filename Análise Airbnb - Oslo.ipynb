{
  "nbformat": 4,
  "nbformat_minor": 0,
  "metadata": {
    "colab": {
      "name": "Projeto DSNP 3.0 - Módulo 1 - Análise Airbnb Oslo.ipynb",
      "provenance": [],
      "collapsed_sections": [],
      "include_colab_link": true
    },
    "kernelspec": {
      "name": "python3",
      "display_name": "Python 3"
    }
  },
  "cells": [
    {
      "cell_type": "markdown",
      "metadata": {
        "id": "view-in-github",
        "colab_type": "text"
      },
      "source": [
        "<a href=\"https://colab.research.google.com/github/edubandeira/data_science/blob/main/An%C3%A1lise%20Airbnb%20-%20Oslo.ipynb\" target=\"_parent\"><img src=\"https://colab.research.google.com/assets/colab-badge.svg\" alt=\"Open In Colab\"/></a>"
      ]
    },
    {
      "cell_type": "markdown",
      "metadata": {
        "id": "kLI0gJtzDGuQ"
      },
      "source": [
        "# Análise dos Dados do Airbnb - *Oslo*\n",
        "\n",
        "---\n",
        "\n",
        "*by [Eduardo Bandeira](https://www.linkedin.com/in/eduardo-bandeira-122b0816a/)*\n",
        "\n",
        "O [Airbnb](https://www.airbnb.com.br/) já é considerado como sendo a **maior empresa hoteleira da atualidade**. Ah, o detalhe é que ele **não possui nenhum hotel**!\n",
        "\n",
        "Conectando pessoas que querem viajar (e se hospedar) com anfitriões que querem alugar seus imóveis de maneira prática, o Airbnb fornece uma plataforma inovadora para tornar essa hospedagem alternativa.\n",
        "\n",
        "No final de 2018, a Startup fundada 10 anos atrás, já havia **hospedado mais de 300 milhões** de pessoas ao redor de todo o mundo, desafiando as redes hoteleiras tradicionais.\n",
        "\n",
        "Uma das iniciativas do Airbnb é disponibilizar dados do site, para algumas das principais cidades do mundo. Por meio do portal [Inside Airbnb](http://insideairbnb.com/get-the-data.html), é possível baixar uma grande quantidade de dados para desenvolver projetos e soluções de *Data Science*.\n",
        "\n",
        "<center><img alt=\"Analisando Airbnb\" width=\"10%\" src=\"https://1000logos.net/wp-content/uploads/2017/08/Airbnb-symbol.jpg\"></center>\n",
        "\n",
        "**Neste *notebook*, iremos analisar os dados referentes a cidade de Oslo, e ver quais insights podem ser extraídos a partir de dados brutos.**"
      ]
    },
    {
      "cell_type": "markdown",
      "metadata": {
        "id": "0zxQHhIUDF_2"
      },
      "source": [
        "## Obtenção dos Dados\n",
        "\n",
        "Todos os dados utilizados nessa análise foram obtidos diretamente do site [Inside Airbnb](http://insideairbnb.com/get-the-data.html).\n",
        "\n",
        "Nessa análise exploratória inicial será baixado apenas o seguinte arquivo:\n",
        "\n",
        "* `listings.csv` *Summary information and metrics for listings in Oslo (good for visualisations).*\n",
        "\n",
        "Com essas informações em mente, vamos ao trabalho!"
      ]
    },
    {
      "cell_type": "code",
      "metadata": {
        "id": "Vhp2wMPgJ6zX"
      },
      "source": [
        "# importar os pacotes necessarios\n",
        "import pandas as pd\n",
        "import matplotlib.pyplot as plt\n",
        "import seaborn as sns\n"
      ],
      "execution_count": null,
      "outputs": []
    },
    {
      "cell_type": "code",
      "metadata": {
        "id": "tUmoAT8DLQ5T"
      },
      "source": [
        "# importar o arquivo listings.csv para um DataFrame\n",
        "df = pd.read_csv('http://data.insideairbnb.com/norway/oslo/oslo/2021-07-20/visualisations/listings.csv')\n"
      ],
      "execution_count": null,
      "outputs": []
    },
    {
      "cell_type": "markdown",
      "metadata": {
        "id": "qb5By2nIMS6m"
      },
      "source": [
        "## Análise dos Dados\n",
        "\n",
        "Nesta análise inicial iremos verificar a estruturação dos dados e criar um dicionário para as variáveis, deixando explícito as informações que cada variável está transmitindo."
      ]
    },
    {
      "cell_type": "markdown",
      "metadata": {
        "id": "RYgvuebKNg8-"
      },
      "source": [
        "**Dicionário das variáveis**\n",
        "\n",
        "* `id` - número de id gerado para identificar o imóvel.\n",
        "* `name` - nome da propriedade anunciada.\n",
        "* `host_id` - número de id gerado para identificar o anfitrião do imóvel anunciado.\n",
        "* `host_name` - nome o anfitrião do imóvel.\n",
        "* `neighbourhood_group` - coluna sem valores válidos.\n",
        "* `neighbourhood` - nome do bairro onde o imóvel está localizado.\n",
        "* `latitude` - coordenada latitudinal da propriedade.\n",
        "* `longitude` - coordenada longitudinal da propriedade.\n",
        "* `room_type` - informa o tipo de quarto que esta sendo oferecido.\n",
        "* `price` - preço, em moeda local, para alugar o imóvel (por noite).\n",
        "* `minimum_nights` - quantidade mínima de noites para alugar a propriedade.\n",
        "* `number_of_review` - quantidade de avaliações do imóvel.\n",
        "* `last_review` - data da última avaliação.\n",
        "* `reviews_per_month` - média de avaliações por mês que aquele imóvel teve.\n",
        "* `calculated_host_listings_count` - quantidade de imóveis do mesmo proprietário.\n",
        "* `availability_365` - quantidade de dias disponívels dentro de 365 dias.\n",
        "\n",
        "Antes de iniciar qualquer análise, vamos verificar a cara do nosso *dataset*, analisando as 5 primeiras entradas."
      ]
    },
    {
      "cell_type": "code",
      "metadata": {
        "id": "2iS_dae7YQtO",
        "colab": {
          "base_uri": "https://localhost:8080/",
          "height": 496
        },
        "outputId": "4e90c333-77f5-442c-b2dd-7404df28b977"
      },
      "source": [
        "# mostrar as 5 primeiras entradas\n",
        "df.head()"
      ],
      "execution_count": null,
      "outputs": [
        {
          "output_type": "execute_result",
          "data": {
            "text/html": [
              "<div>\n",
              "<style scoped>\n",
              "    .dataframe tbody tr th:only-of-type {\n",
              "        vertical-align: middle;\n",
              "    }\n",
              "\n",
              "    .dataframe tbody tr th {\n",
              "        vertical-align: top;\n",
              "    }\n",
              "\n",
              "    .dataframe thead th {\n",
              "        text-align: right;\n",
              "    }\n",
              "</style>\n",
              "<table border=\"1\" class=\"dataframe\">\n",
              "  <thead>\n",
              "    <tr style=\"text-align: right;\">\n",
              "      <th></th>\n",
              "      <th>id</th>\n",
              "      <th>name</th>\n",
              "      <th>host_id</th>\n",
              "      <th>host_name</th>\n",
              "      <th>neighbourhood_group</th>\n",
              "      <th>neighbourhood</th>\n",
              "      <th>latitude</th>\n",
              "      <th>longitude</th>\n",
              "      <th>room_type</th>\n",
              "      <th>price</th>\n",
              "      <th>minimum_nights</th>\n",
              "      <th>number_of_reviews</th>\n",
              "      <th>last_review</th>\n",
              "      <th>reviews_per_month</th>\n",
              "      <th>calculated_host_listings_count</th>\n",
              "      <th>availability_365</th>\n",
              "    </tr>\n",
              "  </thead>\n",
              "  <tbody>\n",
              "    <tr>\n",
              "      <th>0</th>\n",
              "      <td>42932</td>\n",
              "      <td>Charming apartment, Oslo Center, Ro</td>\n",
              "      <td>187463</td>\n",
              "      <td>Cecilie</td>\n",
              "      <td>NaN</td>\n",
              "      <td>Frogner</td>\n",
              "      <td>59.91201</td>\n",
              "      <td>10.72455</td>\n",
              "      <td>Entire home/apt</td>\n",
              "      <td>1999</td>\n",
              "      <td>3</td>\n",
              "      <td>38</td>\n",
              "      <td>2019-06-19</td>\n",
              "      <td>0.76</td>\n",
              "      <td>2</td>\n",
              "      <td>280</td>\n",
              "    </tr>\n",
              "    <tr>\n",
              "      <th>1</th>\n",
              "      <td>69964</td>\n",
              "      <td>Lovely flat in Oslo city centre</td>\n",
              "      <td>175633</td>\n",
              "      <td>Kris</td>\n",
              "      <td>NaN</td>\n",
              "      <td>Sagene</td>\n",
              "      <td>59.94059</td>\n",
              "      <td>10.77397</td>\n",
              "      <td>Entire home/apt</td>\n",
              "      <td>910</td>\n",
              "      <td>28</td>\n",
              "      <td>9</td>\n",
              "      <td>2012-08-10</td>\n",
              "      <td>1.94</td>\n",
              "      <td>1</td>\n",
              "      <td>264</td>\n",
              "    </tr>\n",
              "    <tr>\n",
              "      <th>2</th>\n",
              "      <td>71725</td>\n",
              "      <td>Central big room - ap with balcony</td>\n",
              "      <td>368229</td>\n",
              "      <td>Reidun</td>\n",
              "      <td>NaN</td>\n",
              "      <td>Gamle Oslo</td>\n",
              "      <td>59.90795</td>\n",
              "      <td>10.77987</td>\n",
              "      <td>Private room</td>\n",
              "      <td>526</td>\n",
              "      <td>4</td>\n",
              "      <td>49</td>\n",
              "      <td>2019-11-09</td>\n",
              "      <td>0.51</td>\n",
              "      <td>1</td>\n",
              "      <td>322</td>\n",
              "    </tr>\n",
              "    <tr>\n",
              "      <th>3</th>\n",
              "      <td>77108</td>\n",
              "      <td>Friendly &amp; spacious in uptown Oslo</td>\n",
              "      <td>412523</td>\n",
              "      <td>Gunn Hild</td>\n",
              "      <td>NaN</td>\n",
              "      <td>Frogner</td>\n",
              "      <td>59.92317</td>\n",
              "      <td>10.71841</td>\n",
              "      <td>Entire home/apt</td>\n",
              "      <td>2209</td>\n",
              "      <td>7</td>\n",
              "      <td>15</td>\n",
              "      <td>2018-08-13</td>\n",
              "      <td>0.13</td>\n",
              "      <td>1</td>\n",
              "      <td>322</td>\n",
              "    </tr>\n",
              "    <tr>\n",
              "      <th>4</th>\n",
              "      <td>85902</td>\n",
              "      <td>Stylish design apt, east. Close to train station</td>\n",
              "      <td>250159</td>\n",
              "      <td>Melissa</td>\n",
              "      <td>NaN</td>\n",
              "      <td>Gamle Oslo</td>\n",
              "      <td>59.91074</td>\n",
              "      <td>10.77232</td>\n",
              "      <td>Entire home/apt</td>\n",
              "      <td>821</td>\n",
              "      <td>5</td>\n",
              "      <td>63</td>\n",
              "      <td>2019-09-28</td>\n",
              "      <td>1.31</td>\n",
              "      <td>2</td>\n",
              "      <td>0</td>\n",
              "    </tr>\n",
              "  </tbody>\n",
              "</table>\n",
              "</div>"
            ],
            "text/plain": [
              "      id  ... availability_365\n",
              "0  42932  ...              280\n",
              "1  69964  ...              264\n",
              "2  71725  ...              322\n",
              "3  77108  ...              322\n",
              "4  85902  ...                0\n",
              "\n",
              "[5 rows x 16 columns]"
            ]
          },
          "metadata": {},
          "execution_count": 3
        }
      ]
    },
    {
      "cell_type": "markdown",
      "metadata": {
        "id": "6-B_qtEaYEd-"
      },
      "source": [
        "### **Q1. Quantos atributos (variáveis) e quantas entradas o nosso conjunto de dados possui? Quais os tipos das variáveis?**\n",
        "\n",
        "O próximo passo é avaliar o tamanho de nosso dataframe e verificar quais são os tipos de dados de cada variável.\n",
        "\n",
        "* Para verificar o tamanho do dataframe, utilizei o comando `shape`\n",
        "* Para verificar as informações das variáveis, utilizei o comando `info`\n",
        "\n",
        "Conforme vemos abaixo, o dataset que utilizaremos para este projeto possuí 16 variáveis e 3392 entradas.\n",
        "\n",
        "É interessante salientar que o comando `info` nos fornece algumas informações além do que o tipo de dado das variáveis, como por exemplo a quantidade de dados NÃO ausentes em cada *Serie*. Com essa informação ja conseguimos ter uma visão geral sobre os dados ausentes, os quais serão tratados mais adiante. Vale ressaltar que o comando `dtype` pode ser utilizado para retornar apenas o tipo de dado de cada variável."
      ]
    },
    {
      "cell_type": "code",
      "metadata": {
        "id": "TFRK0tniLV-G",
        "colab": {
          "base_uri": "https://localhost:8080/"
        },
        "outputId": "12f60eb0-9c73-4c62-ac6a-6b3ff14b3ebb"
      },
      "source": [
        "# identificar o volume de dados do DataFrame\n",
        "print('Quantidade de variáveis:', df.shape[1],)\n",
        "print('Quantidade de entradas:', df.shape[0], '\\n')\n",
        "\n",
        "# verificar as informações das variáveis do dataset\n",
        "df.info()"
      ],
      "execution_count": null,
      "outputs": [
        {
          "output_type": "stream",
          "text": [
            "Quantidade de variáveis: 16\n",
            "Quantidade de entradas: 3392 \n",
            "\n",
            "<class 'pandas.core.frame.DataFrame'>\n",
            "RangeIndex: 3392 entries, 0 to 3391\n",
            "Data columns (total 16 columns):\n",
            " #   Column                          Non-Null Count  Dtype  \n",
            "---  ------                          --------------  -----  \n",
            " 0   id                              3392 non-null   int64  \n",
            " 1   name                            3391 non-null   object \n",
            " 2   host_id                         3392 non-null   int64  \n",
            " 3   host_name                       3392 non-null   object \n",
            " 4   neighbourhood_group             0 non-null      float64\n",
            " 5   neighbourhood                   3392 non-null   object \n",
            " 6   latitude                        3392 non-null   float64\n",
            " 7   longitude                       3392 non-null   float64\n",
            " 8   room_type                       3392 non-null   object \n",
            " 9   price                           3392 non-null   int64  \n",
            " 10  minimum_nights                  3392 non-null   int64  \n",
            " 11  number_of_reviews               3392 non-null   int64  \n",
            " 12  last_review                     2660 non-null   object \n",
            " 13  reviews_per_month               2660 non-null   float64\n",
            " 14  calculated_host_listings_count  3392 non-null   int64  \n",
            " 15  availability_365                3392 non-null   int64  \n",
            "dtypes: float64(4), int64(7), object(5)\n",
            "memory usage: 424.1+ KB\n"
          ],
          "name": "stdout"
        }
      ]
    },
    {
      "cell_type": "markdown",
      "metadata": {
        "id": "x8UIkbvnXRoK"
      },
      "source": [
        "Conforme observado acima, a coluna Dtype nos indica que a variável `last_review` se apresenta no formato incorreto, uma vez que os dados são datas. Desta forma, a próxima etapa é realizar a conversão da variável para o formato *datetime*."
      ]
    },
    {
      "cell_type": "code",
      "metadata": {
        "colab": {
          "base_uri": "https://localhost:8080/"
        },
        "id": "4h0rQthXX8d4",
        "outputId": "50fc450e-8343-4320-ee49-516dfbf3fa33"
      },
      "source": [
        "# converter a variável last_review para datetime.\n",
        "df.last_review = pd.to_datetime(df.last_review, format='%Y-%m-%d')\n",
        "\n",
        "# analisar as informações novamente\n",
        "df.info()"
      ],
      "execution_count": null,
      "outputs": [
        {
          "output_type": "stream",
          "text": [
            "<class 'pandas.core.frame.DataFrame'>\n",
            "RangeIndex: 3392 entries, 0 to 3391\n",
            "Data columns (total 16 columns):\n",
            " #   Column                          Non-Null Count  Dtype         \n",
            "---  ------                          --------------  -----         \n",
            " 0   id                              3392 non-null   int64         \n",
            " 1   name                            3391 non-null   object        \n",
            " 2   host_id                         3392 non-null   int64         \n",
            " 3   host_name                       3392 non-null   object        \n",
            " 4   neighbourhood_group             0 non-null      float64       \n",
            " 5   neighbourhood                   3392 non-null   object        \n",
            " 6   latitude                        3392 non-null   float64       \n",
            " 7   longitude                       3392 non-null   float64       \n",
            " 8   room_type                       3392 non-null   object        \n",
            " 9   price                           3392 non-null   int64         \n",
            " 10  minimum_nights                  3392 non-null   int64         \n",
            " 11  number_of_reviews               3392 non-null   int64         \n",
            " 12  last_review                     2660 non-null   datetime64[ns]\n",
            " 13  reviews_per_month               2660 non-null   float64       \n",
            " 14  calculated_host_listings_count  3392 non-null   int64         \n",
            " 15  availability_365                3392 non-null   int64         \n",
            "dtypes: datetime64[ns](1), float64(4), int64(7), object(4)\n",
            "memory usage: 424.1+ KB\n"
          ],
          "name": "stdout"
        }
      ]
    },
    {
      "cell_type": "markdown",
      "metadata": {
        "id": "64HMpLAAYdzl"
      },
      "source": [
        "Agora, com cada variável no formato ideal, daremos continuidade à analise."
      ]
    },
    {
      "cell_type": "markdown",
      "metadata": {
        "id": "yz1urSUGW9iE"
      },
      "source": [
        "### **Q2. Qual a porcentagem de valores ausentes no *dataset*?**\n",
        "\n",
        "Tendo os *missing values* como nosso próximo alvo, iremos verificar a quantidade presente em cada variável. Com essa informação em mãos, vamos análisar a melhor tratativa para cada uma das *Series* que possuem valores ausentes."
      ]
    },
    {
      "cell_type": "code",
      "metadata": {
        "id": "plk2FjbCXOqP",
        "colab": {
          "base_uri": "https://localhost:8080/"
        },
        "outputId": "a739c393-2214-48de-a5f5-743cc41e9dd4"
      },
      "source": [
        "# ordenar em ordem decrescente as variáveis por seus valores ausentes\n",
        "(df.isnull().sum()).sort_values(ascending=False)"
      ],
      "execution_count": null,
      "outputs": [
        {
          "output_type": "execute_result",
          "data": {
            "text/plain": [
              "neighbourhood_group               3392\n",
              "reviews_per_month                  732\n",
              "last_review                        732\n",
              "name                                 1\n",
              "availability_365                     0\n",
              "calculated_host_listings_count       0\n",
              "number_of_reviews                    0\n",
              "minimum_nights                       0\n",
              "price                                0\n",
              "room_type                            0\n",
              "longitude                            0\n",
              "latitude                             0\n",
              "neighbourhood                        0\n",
              "host_name                            0\n",
              "host_id                              0\n",
              "id                                   0\n",
              "dtype: int64"
            ]
          },
          "metadata": {},
          "execution_count": 6
        }
      ]
    },
    {
      "cell_type": "code",
      "metadata": {
        "colab": {
          "base_uri": "https://localhost:8080/"
        },
        "id": "--nFMjD0a9lZ",
        "outputId": "48544794-8aa2-4831-a7d2-9d29151778ab"
      },
      "source": [
        "# percentual dos dados ausentes de cada variável\n",
        "(df.isnull().sum()).sort_values(ascending=False) / df.shape[0] * 100"
      ],
      "execution_count": null,
      "outputs": [
        {
          "output_type": "execute_result",
          "data": {
            "text/plain": [
              "neighbourhood_group               100.000000\n",
              "reviews_per_month                  21.580189\n",
              "last_review                        21.580189\n",
              "name                                0.029481\n",
              "availability_365                    0.000000\n",
              "calculated_host_listings_count      0.000000\n",
              "number_of_reviews                   0.000000\n",
              "minimum_nights                      0.000000\n",
              "price                               0.000000\n",
              "room_type                           0.000000\n",
              "longitude                           0.000000\n",
              "latitude                            0.000000\n",
              "neighbourhood                       0.000000\n",
              "host_name                           0.000000\n",
              "host_id                             0.000000\n",
              "id                                  0.000000\n",
              "dtype: float64"
            ]
          },
          "metadata": {},
          "execution_count": 7
        }
      ]
    },
    {
      "cell_type": "markdown",
      "metadata": {
        "id": "uoH2pPxteE93"
      },
      "source": [
        "A partir dos procedimentos executados, temos as seguintes informações a serem tratadas:\n",
        "\n",
        "* A variável `neighbourhood_group` esta completamente vazia e desta forma, podemos descarta-la, visto que não irá interferir nas próximas análises.\n",
        "* As variáveis `reviews_per_month` e `last_review` possuem a mesma quantidade de valores ausentes, que representam cerca de 21.6% do valor total de entradas. Não é uma opção viável eliminarmos as entradas que contém esses valores pois, com base no tamanho da população, pode ocorrer alguma interferência nas análises posteriores. Desta forma, podemos eliminar as variáveis, uma vez que não pretendemos utiliza-las como referência no decorrer desse projeto. Executando esse procedimento teremos um dataset mais \"limpo\" e leve para trabalhar.\n",
        "* A variável `name` possuí apenas um dado ausente. Neste caso, podemos eliminar a entrada a qual esse dado corresponde sem correr o risco de prejudicar nosso dataframe. "
      ]
    },
    {
      "cell_type": "code",
      "metadata": {
        "colab": {
          "base_uri": "https://localhost:8080/"
        },
        "id": "MA4IJ0O13dZV",
        "outputId": "bece0425-c956-4c50-fb0f-398b3627f26d"
      },
      "source": [
        "# eliminar as variáveis reviews_per_month, last_review e neighbourhood_group\n",
        "df.drop(columns=['reviews_per_month', 'last_review', 'neighbourhood_group'], inplace=True)\n",
        "\n",
        "# eliminar a entrada que não possuí dado na variável name\n",
        "df.dropna(axis=0, inplace=True)\n",
        "\n",
        "# reverificar as informações do dataset\n",
        "df.info()"
      ],
      "execution_count": null,
      "outputs": [
        {
          "output_type": "stream",
          "text": [
            "<class 'pandas.core.frame.DataFrame'>\n",
            "Int64Index: 3391 entries, 0 to 3391\n",
            "Data columns (total 13 columns):\n",
            " #   Column                          Non-Null Count  Dtype  \n",
            "---  ------                          --------------  -----  \n",
            " 0   id                              3391 non-null   int64  \n",
            " 1   name                            3391 non-null   object \n",
            " 2   host_id                         3391 non-null   int64  \n",
            " 3   host_name                       3391 non-null   object \n",
            " 4   neighbourhood                   3391 non-null   object \n",
            " 5   latitude                        3391 non-null   float64\n",
            " 6   longitude                       3391 non-null   float64\n",
            " 7   room_type                       3391 non-null   object \n",
            " 8   price                           3391 non-null   int64  \n",
            " 9   minimum_nights                  3391 non-null   int64  \n",
            " 10  number_of_reviews               3391 non-null   int64  \n",
            " 11  calculated_host_listings_count  3391 non-null   int64  \n",
            " 12  availability_365                3391 non-null   int64  \n",
            "dtypes: float64(2), int64(7), object(4)\n",
            "memory usage: 370.9+ KB\n"
          ],
          "name": "stdout"
        }
      ]
    },
    {
      "cell_type": "markdown",
      "metadata": {
        "id": "iHXvvHIxaoNc"
      },
      "source": [
        "### **Q3. Identificando e tratando Outliers** \n",
        "\n",
        "Para tratar dos outliers desse dataframe, seguiremos as seguintes etapas:\n",
        "\n",
        "* identificar os outliers através das distribuições estatísticas e análise de histogramas e boxplots;\n",
        "* utilizar a regra do IQR Score para calcular os limites das variáveis que forem necessárias;\n",
        "* eliminar os outliers que forem identificados com o apoio das tecnicas acima."
      ]
    },
    {
      "cell_type": "code",
      "metadata": {
        "colab": {
          "base_uri": "https://localhost:8080/",
          "height": 297
        },
        "id": "BXzVOPS5EPgu",
        "outputId": "97e934b6-72a7-4284-f9a8-a3f7ce52b84d"
      },
      "source": [
        "# verificar a distribuição estatística das variáveis\n",
        "df.describe().round(1)"
      ],
      "execution_count": null,
      "outputs": [
        {
          "output_type": "execute_result",
          "data": {
            "text/html": [
              "<div>\n",
              "<style scoped>\n",
              "    .dataframe tbody tr th:only-of-type {\n",
              "        vertical-align: middle;\n",
              "    }\n",
              "\n",
              "    .dataframe tbody tr th {\n",
              "        vertical-align: top;\n",
              "    }\n",
              "\n",
              "    .dataframe thead th {\n",
              "        text-align: right;\n",
              "    }\n",
              "</style>\n",
              "<table border=\"1\" class=\"dataframe\">\n",
              "  <thead>\n",
              "    <tr style=\"text-align: right;\">\n",
              "      <th></th>\n",
              "      <th>id</th>\n",
              "      <th>host_id</th>\n",
              "      <th>latitude</th>\n",
              "      <th>longitude</th>\n",
              "      <th>price</th>\n",
              "      <th>minimum_nights</th>\n",
              "      <th>number_of_reviews</th>\n",
              "      <th>calculated_host_listings_count</th>\n",
              "      <th>availability_365</th>\n",
              "    </tr>\n",
              "  </thead>\n",
              "  <tbody>\n",
              "    <tr>\n",
              "      <th>count</th>\n",
              "      <td>3391.0</td>\n",
              "      <td>3391.0</td>\n",
              "      <td>3391.0</td>\n",
              "      <td>3391.0</td>\n",
              "      <td>3391.0</td>\n",
              "      <td>3391.0</td>\n",
              "      <td>3391.0</td>\n",
              "      <td>3391.0</td>\n",
              "      <td>3391.0</td>\n",
              "    </tr>\n",
              "    <tr>\n",
              "      <th>mean</th>\n",
              "      <td>30457779.1</td>\n",
              "      <td>98255848.2</td>\n",
              "      <td>59.9</td>\n",
              "      <td>10.8</td>\n",
              "      <td>1221.1</td>\n",
              "      <td>5.6</td>\n",
              "      <td>22.9</td>\n",
              "      <td>3.1</td>\n",
              "      <td>121.6</td>\n",
              "    </tr>\n",
              "    <tr>\n",
              "      <th>std</th>\n",
              "      <td>15474820.7</td>\n",
              "      <td>108502402.6</td>\n",
              "      <td>0.0</td>\n",
              "      <td>0.0</td>\n",
              "      <td>2203.7</td>\n",
              "      <td>25.7</td>\n",
              "      <td>53.7</td>\n",
              "      <td>10.4</td>\n",
              "      <td>129.5</td>\n",
              "    </tr>\n",
              "    <tr>\n",
              "      <th>min</th>\n",
              "      <td>42932.0</td>\n",
              "      <td>43067.0</td>\n",
              "      <td>59.8</td>\n",
              "      <td>10.6</td>\n",
              "      <td>100.0</td>\n",
              "      <td>1.0</td>\n",
              "      <td>0.0</td>\n",
              "      <td>1.0</td>\n",
              "      <td>0.0</td>\n",
              "    </tr>\n",
              "    <tr>\n",
              "      <th>25%</th>\n",
              "      <td>17680706.5</td>\n",
              "      <td>17544740.0</td>\n",
              "      <td>59.9</td>\n",
              "      <td>10.7</td>\n",
              "      <td>600.0</td>\n",
              "      <td>2.0</td>\n",
              "      <td>1.0</td>\n",
              "      <td>1.0</td>\n",
              "      <td>4.0</td>\n",
              "    </tr>\n",
              "    <tr>\n",
              "      <th>50%</th>\n",
              "      <td>33284562.0</td>\n",
              "      <td>52442149.0</td>\n",
              "      <td>59.9</td>\n",
              "      <td>10.8</td>\n",
              "      <td>890.0</td>\n",
              "      <td>2.0</td>\n",
              "      <td>5.0</td>\n",
              "      <td>1.0</td>\n",
              "      <td>75.0</td>\n",
              "    </tr>\n",
              "    <tr>\n",
              "      <th>75%</th>\n",
              "      <td>44116125.0</td>\n",
              "      <td>142733169.0</td>\n",
              "      <td>59.9</td>\n",
              "      <td>10.8</td>\n",
              "      <td>1300.0</td>\n",
              "      <td>4.0</td>\n",
              "      <td>20.0</td>\n",
              "      <td>1.0</td>\n",
              "      <td>217.5</td>\n",
              "    </tr>\n",
              "    <tr>\n",
              "      <th>max</th>\n",
              "      <td>51144124.0</td>\n",
              "      <td>413715328.0</td>\n",
              "      <td>60.0</td>\n",
              "      <td>10.9</td>\n",
              "      <td>89195.0</td>\n",
              "      <td>900.0</td>\n",
              "      <td>843.0</td>\n",
              "      <td>72.0</td>\n",
              "      <td>365.0</td>\n",
              "    </tr>\n",
              "  </tbody>\n",
              "</table>\n",
              "</div>"
            ],
            "text/plain": [
              "               id  ...  availability_365\n",
              "count      3391.0  ...            3391.0\n",
              "mean   30457779.1  ...             121.6\n",
              "std    15474820.7  ...             129.5\n",
              "min       42932.0  ...               0.0\n",
              "25%    17680706.5  ...               4.0\n",
              "50%    33284562.0  ...              75.0\n",
              "75%    44116125.0  ...             217.5\n",
              "max    51144124.0  ...             365.0\n",
              "\n",
              "[8 rows x 9 columns]"
            ]
          },
          "metadata": {},
          "execution_count": 9
        }
      ]
    },
    {
      "cell_type": "code",
      "metadata": {
        "id": "q2wWSfeRbmBo",
        "colab": {
          "base_uri": "https://localhost:8080/",
          "height": 879
        },
        "outputId": "059edbaf-6e2c-4f75-a3a8-e69098e9465d"
      },
      "source": [
        "# plotar o histograma das variáveis numéricas\n",
        "df.hist(figsize =(20,15), grid=False);"
      ],
      "execution_count": null,
      "outputs": [
        {
          "output_type": "display_data",
          "data": {
            "image/png": "[encoded data removed]",
            "text/plain": [
              "<Figure size 1440x1080 with 9 Axes>"
            ]
          },
          "metadata": {
            "needs_background": "light"
          }
        }
      ]
    },
    {
      "cell_type": "markdown",
      "metadata": {
        "id": "zZdW3LRTGF4E"
      },
      "source": [
        "Com base nas informações acima, conseguimos levantar alguns pontos:\n",
        "\n",
        "* A variável `price` possuí seu Q3 em 1300, enquanto o valor máximo está em 89195\n",
        "* A variável `minimum_nights`, por sua vez, tem seu Q3 em 4 noites, enquanto o valor máximo está em 900 noites.\n",
        "* O restante das variáveis até podem ter outliers, contudo, para esse projeto, não nos vem ao caso verifica-las mais profundamente \n",
        "\n",
        "Sabendo da existência dos outliers das variáveis, vamos ao tratamento destes dados utilizando a regra do IQR Score, que é calculado subtraindo o Terceiro Quartil pelo Primeiro Quartil.\n",
        "\n",
        "##IQR = Q3 - Q1\n",
        "\n",
        "Os limites, por sua vez, são calculados da seguinte forma:\n",
        "\n",
        "###Limite Superior = Q3 + 1.5 * IQR\n",
        "\n",
        "###Limite Inferior = Q1 - 1.5 * IQR\n",
        "\n",
        "Note, contudo, que não há valores negativos nas variáveis `price` e `minimum_nights`, o que torna desnecessário o cálculo para o Limite Inferior. Desta forma, realizaremos o cálculo apenas para o limite superior enquanto que para o inferior utilizaremos os valores mínimos como parâmetro."
      ]
    },
    {
      "cell_type": "code",
      "metadata": {
        "colab": {
          "base_uri": "https://localhost:8080/"
        },
        "id": "rG4Q41CPLbC6",
        "outputId": "fa702004-c05a-4730-9169-d466f32df42b"
      },
      "source": [
        "# calcular o IQR da variável price\n",
        "q1_price = df.price.quantile(.25)\n",
        "q3_price = df.price.quantile(.75)\n",
        "iqr_price = q3_price - q1_price\n",
        "print('IQR da variável price: ', iqr_price)\n",
        "\n",
        "# calcular  o limite superior de price\n",
        "sup_price = q3_price + 1.5 * iqr_price\n",
        "\n",
        "print('Limite superior da variável price: ', sup_price)\n",
        "\n",
        "# calcular o IQR da variável minimum_nights\n",
        "q1_minimum_nights = df.minimum_nights.quantile(.25)\n",
        "q3_minimum_nights = df.minimum_nights.quantile(.75)\n",
        "iqr_minimum_nights = q3_minimum_nights - q1_minimum_nights\n",
        "\n",
        "print('\\n\\nIQR da variável minimum_nights: ', iqr_minimum_nights)\n",
        "\n",
        "# calcular o limite superior de minimum_nights\n",
        "sup_minimum_nights = q3_minimum_nights + 1.5 * iqr_minimum_nights\n",
        "\n",
        "print('Limite superior da variável minimum_nights: ', sup_minimum_nights)"
      ],
      "execution_count": null,
      "outputs": [
        {
          "output_type": "stream",
          "text": [
            "IQR da variável price:  700.0\n",
            "Limite superior da variável price:  2350.0\n",
            "\n",
            "\n",
            "IQR da variável minimum_nights:  2.0\n",
            "Limite superior da variável minimum_nights:  7.0\n"
          ],
          "name": "stdout"
        }
      ]
    },
    {
      "cell_type": "markdown",
      "metadata": {
        "id": "etzk4OwxQipB"
      },
      "source": [
        "Com os cálculos dos limites realizados, podemos calcular a quantidade de outliers presentes e plotar um boxplot para ter uma melhor visualização desses outliers."
      ]
    },
    {
      "cell_type": "code",
      "metadata": {
        "colab": {
          "base_uri": "https://localhost:8080/",
          "height": 273
        },
        "id": "q39JovTOSpz6",
        "outputId": "4c5bf07f-0ff1-46d1-fe0b-e7b5b6ec6e0a"
      },
      "source": [
        "# verificar a quantidade de outliers para a variável price\n",
        "fig, ax = plt.subplots(figsize=(15,3))\n",
        "df.price.plot(kind='box', vert=False);\n",
        "ax.set_yticklabels('')\n",
        "plt.text(-4000, 1.6,'Outliers - price', fontsize = 15)\n",
        "plt.show()\n",
        "print('{} Entradas acima de 2350.0'.format(len(df[df.price > 2350])))\n",
        "print('Este valor representa {:.2f}% do dataset'.format((len(df[df.price > 2350]) / df.shape[0]) * 100))"
      ],
      "execution_count": null,
      "outputs": [
        {
          "output_type": "display_data",
          "data": {
            "image/png": "[encoded data removed]",
            "text/plain": [
              "<Figure size 1080x216 with 1 Axes>"
            ]
          },
          "metadata": {
            "needs_background": "light"
          }
        },
        {
          "output_type": "stream",
          "text": [
            "256 Entradas acima de 2350.0\n",
            "Este valor representa 7.55% do dataset\n"
          ],
          "name": "stdout"
        }
      ]
    },
    {
      "cell_type": "code",
      "metadata": {
        "colab": {
          "base_uri": "https://localhost:8080/",
          "height": 273
        },
        "id": "j-dcBD39wr3r",
        "outputId": "15ecb837-a0fc-4469-bf48-da5fb70d6e72"
      },
      "source": [
        "# verificar a quantidade de outliers para a variável minimum_nights\n",
        "fig, ax = plt.subplots(figsize=(15,3))\n",
        "df.minimum_nights.plot(kind='box', vert=False);\n",
        "ax.set_yticklabels('')\n",
        "plt.text(-40, 1.6,'Outliers - minimum_nights', fontsize = 15)\n",
        "plt.show()\n",
        "print('{} Entradas acima de 7.0'.format(len(df[df.minimum_nights > 7])))\n",
        "print('Este valor representa {:.2f}% do dataset'.format((len(df[df.minimum_nights > 7]) / df.shape[0]) * 100))"
      ],
      "execution_count": null,
      "outputs": [
        {
          "output_type": "display_data",
          "data": {
            "image/png": "[encoded data removed]",
            "text/plain": [
              "<Figure size 1080x216 with 1 Axes>"
            ]
          },
          "metadata": {
            "needs_background": "light"
          }
        },
        {
          "output_type": "stream",
          "text": [
            "239 Entradas acima de 7.0\n",
            "Este valor representa 7.05% do dataset\n"
          ],
          "name": "stdout"
        }
      ]
    },
    {
      "cell_type": "markdown",
      "metadata": {
        "id": "euSq_mIJyPsh"
      },
      "source": [
        "Realizado os cálculos acima, notamos que há 7.55% de outliers para a variável price e 7.05% para a variável minimum_nights. Isso quer dizer que, se considerarmos eliminar todos os outliers iremos abrir mão de, no máximo, 14.60% do dataframe, o que podemos considerar, para as análises que iremos realizar e considerando o tamanho total do dataset, um percentual aceitável.\n",
        "\n",
        "Desta forma, a próxima etapa é eliminar os outliers."
      ]
    },
    {
      "cell_type": "code",
      "metadata": {
        "colab": {
          "base_uri": "https://localhost:8080/"
        },
        "id": "xwfv32f40DKw",
        "outputId": "4fe03c8c-63c0-48b0-dace-5fa7008916f9"
      },
      "source": [
        "# limpar os outliers\n",
        "df_clean = df.copy()\n",
        "\n",
        "df_clean.drop(df_clean[df_clean.price > 2350].index, axis=0, inplace=True)\n",
        "df_clean.drop(df_clean[df_clean.minimum_nights > 7].index, axis=0, inplace=True)\n",
        "perc_total = (df.shape[0] - df_clean.shape[0]) / df.shape[0] * 100\n",
        "\n",
        "\n",
        "print('Percentual do dataset eliminado: {:.2f}%.'.format(perc_total))"
      ],
      "execution_count": null,
      "outputs": [
        {
          "output_type": "stream",
          "text": [
            "Percentual do dataset eliminado: 14.04%.\n"
          ],
          "name": "stdout"
        }
      ]
    },
    {
      "cell_type": "markdown",
      "metadata": {
        "id": "NdDaYDwl2Oay"
      },
      "source": [
        "Com os outliers limpos, a partir deste ponto iremos considerar o novo dataframe `df_clean` para as análises seguintes. Para uma melhor comparação visual, abaixo temos os boxplots da nova base de dados. "
      ]
    },
    {
      "cell_type": "code",
      "metadata": {
        "colab": {
          "base_uri": "https://localhost:8080/",
          "height": 239
        },
        "id": "2B_A-z_b2rwN",
        "outputId": "89e7f360-a94c-4d6c-cb73-6d125854eccb"
      },
      "source": [
        "# boxplot df_clean para a variável price\n",
        "fig, ax = plt.subplots(figsize=(15,3))\n",
        "df_clean.price.plot(kind='box', vert=False);\n",
        "ax.set_yticklabels('')\n",
        "plt.text(0, 1.6,'Outliers - price', fontsize = 15)\n",
        "ax.set_ylabel('')\n",
        "plt.show()"
      ],
      "execution_count": null,
      "outputs": [
        {
          "output_type": "display_data",
          "data": {
            "image/png": "[encoded data removed]",
            "text/plain": [
              "<Figure size 1080x216 with 1 Axes>"
            ]
          },
          "metadata": {
            "needs_background": "light"
          }
        }
      ]
    },
    {
      "cell_type": "code",
      "metadata": {
        "colab": {
          "base_uri": "https://localhost:8080/",
          "height": 239
        },
        "id": "naq4qJKU3iMN",
        "outputId": "8a7990fc-397b-4f60-d5f2-2b2c2a8482fb"
      },
      "source": [
        "# boxplot df_clean para a variável minimum_nights\n",
        "fig, ax = plt.subplots(figsize=(15,3))\n",
        "df_clean.minimum_nights.plot(kind='box', vert=False);\n",
        "ax.set_yticklabels('')\n",
        "plt.text(0.70, 1.6,'Outliers - minimum_nights', fontsize = 15)\n",
        "plt.show()"
      ],
      "execution_count": null,
      "outputs": [
        {
          "output_type": "display_data",
          "data": {
            "image/png": "[encoded data removed]",
            "text/plain": [
              "<Figure size 1080x216 with 1 Axes>"
            ]
          },
          "metadata": {
            "needs_background": "light"
          }
        }
      ]
    },
    {
      "cell_type": "markdown",
      "metadata": {
        "id": "7x4aw1j5wNmn"
      },
      "source": [
        "### **Q4. Qual a média dos preços de aluguel?**\n",
        "Com os dados devidamente tratados, podemos começar as análises propriamente dita. A primeira análise que iremos realizar é verificar qual o preço médio dos alugueis para a cidade de Oslo. Para isso, podemos utilizar a função `mean()`."
      ]
    },
    {
      "cell_type": "code",
      "metadata": {
        "id": "ff-8gUahLk-C",
        "colab": {
          "base_uri": "https://localhost:8080/"
        },
        "outputId": "51519b5c-dfe2-4542-e3eb-73e1de2c7d5d"
      },
      "source": [
        "# ver a média da coluna price\n",
        "print('Preço médio dos aluguéis:', df_clean.price.mean())"
      ],
      "execution_count": null,
      "outputs": [
        {
          "output_type": "stream",
          "text": [
            "Preço médio dos aluguéis: 945.7173241852487\n"
          ],
          "name": "stdout"
        }
      ]
    },
    {
      "cell_type": "markdown",
      "metadata": {
        "id": "IXn2oIo5qx-w"
      },
      "source": [
        "### **Q5. Qual a correlação existente entre as variáveis**\n",
        "A análise da correlação entre os dados irá nos indicar, de forma descritiva, se existe e qual o tipo de relação entre as variáveis. Para esta verificação, consideraremos o coeficiente de Person, que classifica a correlação entre duas variáveis com valores entre -1 e 1, podendo ocorrer três possíveis cenários:\n",
        "\n",
        "* **Correlação Positiva:** coeficiente mais próximo do 1, ocorre quando duas variáveis possuem relação direta;\n",
        "* **Correlação Negativa:** coeficiente mais próximo do -1, ocorre quando duas variáveis possuem relação indireta;\n",
        "* **Não há correlação:** coeficiente mais próximo do 0, ocorre quando duas variáveis não possuem relação."
      ]
    },
    {
      "cell_type": "code",
      "metadata": {
        "id": "x2ayzBajqxyd",
        "colab": {
          "base_uri": "https://localhost:8080/",
          "height": 204
        },
        "outputId": "3c466473-1b6c-4731-fbdd-82c5c43a6c92"
      },
      "source": [
        "# criar a matriz de correlação\n",
        "corr = df_clean[['price', 'minimum_nights', 'number_of_reviews', 'calculated_host_listings_count', 'availability_365']].corr()\n",
        "display(corr)\n"
      ],
      "execution_count": null,
      "outputs": [
        {
          "output_type": "display_data",
          "data": {
            "text/html": [
              "<div>\n",
              "<style scoped>\n",
              "    .dataframe tbody tr th:only-of-type {\n",
              "        vertical-align: middle;\n",
              "    }\n",
              "\n",
              "    .dataframe tbody tr th {\n",
              "        vertical-align: top;\n",
              "    }\n",
              "\n",
              "    .dataframe thead th {\n",
              "        text-align: right;\n",
              "    }\n",
              "</style>\n",
              "<table border=\"1\" class=\"dataframe\">\n",
              "  <thead>\n",
              "    <tr style=\"text-align: right;\">\n",
              "      <th></th>\n",
              "      <th>price</th>\n",
              "      <th>minimum_nights</th>\n",
              "      <th>number_of_reviews</th>\n",
              "      <th>calculated_host_listings_count</th>\n",
              "      <th>availability_365</th>\n",
              "    </tr>\n",
              "  </thead>\n",
              "  <tbody>\n",
              "    <tr>\n",
              "      <th>price</th>\n",
              "      <td>1.000000</td>\n",
              "      <td>0.140683</td>\n",
              "      <td>-0.098991</td>\n",
              "      <td>-0.067933</td>\n",
              "      <td>0.063838</td>\n",
              "    </tr>\n",
              "    <tr>\n",
              "      <th>minimum_nights</th>\n",
              "      <td>0.140683</td>\n",
              "      <td>1.000000</td>\n",
              "      <td>-0.141782</td>\n",
              "      <td>0.003309</td>\n",
              "      <td>-0.066615</td>\n",
              "    </tr>\n",
              "    <tr>\n",
              "      <th>number_of_reviews</th>\n",
              "      <td>-0.098991</td>\n",
              "      <td>-0.141782</td>\n",
              "      <td>1.000000</td>\n",
              "      <td>-0.012602</td>\n",
              "      <td>0.059671</td>\n",
              "    </tr>\n",
              "    <tr>\n",
              "      <th>calculated_host_listings_count</th>\n",
              "      <td>-0.067933</td>\n",
              "      <td>0.003309</td>\n",
              "      <td>-0.012602</td>\n",
              "      <td>1.000000</td>\n",
              "      <td>0.221015</td>\n",
              "    </tr>\n",
              "    <tr>\n",
              "      <th>availability_365</th>\n",
              "      <td>0.063838</td>\n",
              "      <td>-0.066615</td>\n",
              "      <td>0.059671</td>\n",
              "      <td>0.221015</td>\n",
              "      <td>1.000000</td>\n",
              "    </tr>\n",
              "  </tbody>\n",
              "</table>\n",
              "</div>"
            ],
            "text/plain": [
              "                                   price  ...  availability_365\n",
              "price                           1.000000  ...          0.063838\n",
              "minimum_nights                  0.140683  ...         -0.066615\n",
              "number_of_reviews              -0.098991  ...          0.059671\n",
              "calculated_host_listings_count -0.067933  ...          0.221015\n",
              "availability_365                0.063838  ...          1.000000\n",
              "\n",
              "[5 rows x 5 columns]"
            ]
          },
          "metadata": {}
        }
      ]
    },
    {
      "cell_type": "code",
      "metadata": {
        "id": "91UujDr6ueqE",
        "colab": {
          "base_uri": "https://localhost:8080/",
          "height": 411
        },
        "outputId": "0d3fd0ea-2cbc-4de9-c5d2-bcedfca3edca"
      },
      "source": [
        "# plotar um heatmap a partir das correlações\n",
        "sns.heatmap(corr, cmap='RdBu', fmt='.2f', square=True, linecolor='white', annot=True);\n"
      ],
      "execution_count": null,
      "outputs": [
        {
          "output_type": "display_data",
          "data": {
            "image/png": "[encoded data removed]",
            "text/plain": [
              "<Figure size 432x288 with 2 Axes>"
            ]
          },
          "metadata": {
            "needs_background": "light"
          }
        }
      ]
    },
    {
      "cell_type": "markdown",
      "metadata": {
        "id": "36nd37h9otM5"
      },
      "source": [
        "Como é possível verificar, nenhuma das variáveis possuem uma correlação significante entre sí. A melhor relação que podemos observar é entre as variáveis `calculated_host_listings_count`, que indica a quantidade de imóveis do mesmo proprietário e `availability_365`, que indica a quantidade de vagas disponíveis dentro de 365 dias. Sendo assim, quanto mais propriedades um anfitrião disponibilizar para hospedagem, maior será a quantidade de dias disponíveis dentro do período de um ano."
      ]
    },
    {
      "cell_type": "markdown",
      "metadata": {
        "id": "7b6RMWpuHKN-"
      },
      "source": [
        "### **Q6. Qual o tipo de imóvel mais alugado no Airbnb?**\n",
        "A coluna da variável `room_type` indica o tipo de locação que está anunciada no Airbnb. No site existe a opção de alugar apartamentos/casas inteiras, apenas um quarto ou até mesmo dividir um quarto com outras pessoas.\n",
        "\n",
        "Vamos verificar a quantidade de ocorrências de cada tipo de aluguel utilizando o método `value_counts()`."
      ]
    },
    {
      "cell_type": "code",
      "metadata": {
        "id": "ueLPNWvPHgfB",
        "colab": {
          "base_uri": "https://localhost:8080/"
        },
        "outputId": "9ba2f6aa-6111-423f-a05f-14b76fdefcff"
      },
      "source": [
        "# mostrar a quantidade de cada tipo de imóvel disponível\n",
        "df_clean.room_type.value_counts()\n"
      ],
      "execution_count": null,
      "outputs": [
        {
          "output_type": "execute_result",
          "data": {
            "text/plain": [
              "Entire home/apt    2293\n",
              "Private room        600\n",
              "Shared room          22\n",
              "Name: room_type, dtype: int64"
            ]
          },
          "metadata": {},
          "execution_count": 20
        }
      ]
    },
    {
      "cell_type": "code",
      "metadata": {
        "id": "EvwoO-XAHhIm",
        "colab": {
          "base_uri": "https://localhost:8080/"
        },
        "outputId": "a49e3b2e-b9cd-4d78-a93c-acf93be793c5"
      },
      "source": [
        "# mostrar a porcentagem de cada tipo de imóvel disponível\n",
        "df_clean.room_type.value_counts() / df_clean.shape[0] * 100"
      ],
      "execution_count": null,
      "outputs": [
        {
          "output_type": "execute_result",
          "data": {
            "text/plain": [
              "Entire home/apt    78.662093\n",
              "Private room       20.583190\n",
              "Shared room         0.754717\n",
              "Name: room_type, dtype: float64"
            ]
          },
          "metadata": {},
          "execution_count": 21
        }
      ]
    },
    {
      "cell_type": "markdown",
      "metadata": {
        "id": "MFa5NbnLJMcd"
      },
      "source": [
        "### **Q7. Qual a localidade mais cara em Oslo?**\n",
        "Uma maneira de verificar uma variável em função da outra é usando `groupby()`. Nesse caso, iremos comparar os preços de locação em cada bairro."
      ]
    },
    {
      "cell_type": "code",
      "metadata": {
        "id": "MD_xa143JZpi",
        "colab": {
          "base_uri": "https://localhost:8080/"
        },
        "outputId": "4929c53c-fd58-48af-c6b5-1f58f02b8939"
      },
      "source": [
        "# ver média dos preços por bairro\n",
        "df_clean.groupby(['neighbourhood']).price.mean().sort_values(ascending=False)"
      ],
      "execution_count": null,
      "outputs": [
        {
          "output_type": "execute_result",
          "data": {
            "text/plain": [
              "neighbourhood\n",
              "Marka                1081.461538\n",
              "Sentrum              1077.886364\n",
              "Vestre Aker          1062.340206\n",
              "Frogner              1050.750524\n",
              "Nordstrand           1047.818966\n",
              "Stovner              1046.555556\n",
              "Nordre Aker           985.280899\n",
              "St. Hanshaugen        947.876344\n",
              "Grünerløkka           924.688969\n",
              "Ullern                915.641304\n",
              "Gamle Oslo            909.008247\n",
              "Sagene                883.291228\n",
              "Bjerke                845.842105\n",
              "Østensjø              827.042254\n",
              "Alna                  727.958333\n",
              "Søndre Nordstrand     673.292683\n",
              "Grorud                666.045455\n",
              "Name: price, dtype: float64"
            ]
          },
          "metadata": {},
          "execution_count": 29
        }
      ]
    },
    {
      "cell_type": "markdown",
      "metadata": {
        "id": "0y0y399kgVTL"
      },
      "source": [
        "Para quem não conhece a cidade de Oslo, é possível verificarmos se os bairros com o maior preço do aluguel são os lugares realmente mais caros ou se estamos lidando com uma amostra não-representativa, pois pode ocorrer casos em que poucas ofertas \n",
        "'puxam' o preço médio de aluguel para cima."
      ]
    },
    {
      "cell_type": "code",
      "metadata": {
        "colab": {
          "base_uri": "https://localhost:8080/"
        },
        "id": "Z3ulPuGYg5VV",
        "outputId": "596c7212-bed0-4fce-ef37-2130918c51e6"
      },
      "source": [
        "# verificar quanditade de imóveis no Marka\n",
        "print('O bairro Marka possui {} ofertas.'.format(df_clean[df_clean.neighbourhood == \"Marka\"].shape[0]))\n",
        "\n",
        "# verificar quantidade de imóveis no Sentrum\n",
        "print('O bairro Sentrum possui {} ofertas.'.format(df_clean[df_clean.neighbourhood == \"Sentrum\"].shape[0]))\n",
        "\n",
        "# verificar quantidade de imóveis no Vestre Aker\n",
        "print('O bairro Vestre Aker possui {} ofertas.'.format(df_clean[df_clean.neighbourhood == \"Vestre Aker\"].shape[0]))\n",
        "\n",
        "# verificar quantidade de imóveis no Frogner\n",
        "print('O bairro Frogner possui {} ofertas.'.format(df_clean[df_clean.neighbourhood == \"Frogner\"].shape[0]))\n",
        "\n",
        "# verificar quantidade de imóveis do Nordstrand\n",
        "print('O bairro Nordstrand possui {} ofertas.'.format(df_clean[df_clean.neighbourhood == \"Nordstrand\"].shape[0]))\n",
        "\n",
        "# verificar quantidade de imóveis do Stovner\n",
        "print('O bairro Stovner possui {} ofertas.'.format(df_clean[df_clean.neighbourhood == \"Stovner\"].shape[0]))\n",
        "\n",
        "# verificar quantidade de imóveis do Nordre Aker\n",
        "print('O bairro Nordre Aker possui {} ofertas.'.format(df_clean[df_clean.neighbourhood == \"Nordre Aker\"].shape[0]))\n",
        "\n",
        "# verificar quantidade de imóveis do St. Hanshaugen\n",
        "print('O bairro St. Hanshaugen possui {} ofertas.'.format(df_clean[df_clean.neighbourhood == \"St. Hanshaugen\"].shape[0]))\n",
        "\n",
        "# verificar quantidade de imóveis do Grünerløkka\n",
        "print('O bairro Grünerløkka possui {} ofertas.'.format(df_clean[df_clean.neighbourhood == \"Grünerløkka\"].shape[0]))\n",
        "\n",
        "# verificar quantidade de imóveis do Ullern\n",
        "print('O bairro Ullern possui {} ofertas.'.format(df_clean[df_clean.neighbourhood == \"Ullern\"].shape[0]))\n"
      ],
      "execution_count": null,
      "outputs": [
        {
          "output_type": "stream",
          "text": [
            "O bairro Marka possui 13 ofertas.\n",
            "O bairro Sentrum possui 88 ofertas.\n",
            "O bairro Vestre Aker possui 97 ofertas.\n",
            "O bairro Frogner possui 477 ofertas.\n",
            "O bairro Nordstrand possui 116 ofertas.\n",
            "O bairro Stovner possui 9 ofertas.\n",
            "O bairro Nordre Aker possui 89 ofertas.\n",
            "O bairro St. Hanshaugen possui 372 ofertas.\n",
            "O bairro Grünerløkka possui 553 ofertas.\n",
            "O bairro Ullern possui 92 ofertas.\n"
          ],
          "name": "stdout"
        }
      ]
    },
    {
      "cell_type": "markdown",
      "metadata": {
        "id": "s7_N69z-33_e"
      },
      "source": [
        "Conforme é possível verificar, o bairro Marka e o bairro Stovner possuem apenas 13 e 9 ofertas, respectivamente, o que é uma quantidade baixa se comparado com os outros bairros analisados. Desta forma, podemos inferir que, com exceção desses dois bairros, os outros possuem, de fato, os maiores preços médios para aluguel em Oslo.\n",
        "\n",
        "\n",
        "Dando continuidade, podemos plotar os pontos de cada imóvel ofertado, pois temos as informações de Lagitude e Longitude. Para isso, considera-se `x=longitude` e `y=latitude`."
      ]
    },
    {
      "cell_type": "code",
      "metadata": {
        "id": "UxVJqJ_3W59I",
        "colab": {
          "base_uri": "https://localhost:8080/",
          "height": 469
        },
        "outputId": "af9911af-dc92-4b3f-b35e-727983a26e9e"
      },
      "source": [
        "# plotar os imóveis pela latitude-longitude\n",
        "df_clean.plot(kind=\"scatter\", x='longitude', y='latitude', alpha=0.4, c=df_clean['price'], s=8,\n",
        "              cmap=plt.get_cmap('jet'), figsize=(12,8));"
      ],
      "execution_count": null,
      "outputs": [
        {
          "output_type": "display_data",
          "data": {
            "image/png": "[encoded data removed]",
            "text/plain": [
              "<Figure size 864x576 with 2 Axes>"
            ]
          },
          "metadata": {
            "needs_background": "light"
          }
        }
      ]
    },
    {
      "cell_type": "markdown",
      "metadata": {
        "id": "vTneAMRUYvr1"
      },
      "source": [
        "### **Q8. Qual é a média do mínimo de noites para aluguel (minimum_nights)?**\n",
        "Tendo em mente que a variável `minimum_nights` nos informa o mínimo de noites para cada imóvel, podemos analisar a média utilizando `mean()`."
      ]
    },
    {
      "cell_type": "code",
      "metadata": {
        "id": "_VzNhrEgY82N",
        "colab": {
          "base_uri": "https://localhost:8080/"
        },
        "outputId": "de604579-004e-48b1-dbb4-b8cd5096df97"
      },
      "source": [
        "# ver a média da coluna `minimum_nights`\n",
        "print('Média do mínimo de noites para aluguel: ', df_clean.minimum_nights.mean())"
      ],
      "execution_count": null,
      "outputs": [
        {
          "output_type": "stream",
          "text": [
            "Média do mínimo de noites para aluguel:  2.7365351629502572\n"
          ],
          "name": "stdout"
        }
      ]
    },
    {
      "cell_type": "markdown",
      "metadata": {
        "id": "GkvAg623RjoR"
      },
      "source": [
        "## **Conclusões**\n",
        "Com base nos procedimentos executados e apesar de terem sido superficiais, constatamos a presença de dados ausentes e *outliers* o que nos indica que mesmo uma base de dados relativamente pequena e simples pode demandar de determinadas análises para que seja possível extrair informações verdadeiras. \n",
        "\n",
        "Também observamos que a cidade de Oslo não possuí opção de aluguel de Hotel por meio do Airbnb e que o principal tipo de aluguel ofertado são os apartamentos/casas inteiras.\n",
        "\n",
        "Além disso, verificamos que algumas regiões da cidade Norueguesa possuem poucas ofertas de aluguel, o que pode acabar aumentando o valor médio das propriedades que estão sendo oferecidas. É importante descatar também que a maior quantidade de opções se encontra na região do centro da cidade, próximo aos principais destinos turísticos de quem visita a cidade.\n",
        "\n",
        "Por fim, lembramos que a base utilizada nessa análise é uma versão resumida, ideal para o que foi proposto nesse projeto de uma abordagem inicial. Para um estudo mais aprofundado é recomendado que seja utilizado a versão completa, contendo 106 atributos.\n"
      ]
    },
    {
      "cell_type": "code",
      "metadata": {
        "id": "jmZQYopnR4KH"
      },
      "source": [
        ""
      ],
      "execution_count": null,
      "outputs": []
    }
  ]
}